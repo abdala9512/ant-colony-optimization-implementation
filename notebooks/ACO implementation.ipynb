{
 "cells": [
  {
   "cell_type": "code",
   "execution_count": 7,
   "id": "4424322c-2ca2-475f-8942-4a59f8c41cc3",
   "metadata": {},
   "outputs": [],
   "source": [
    "import numpy as np\n",
    "import random\n",
    "from typing import Dict, List\n"
   ]
  },
  {
   "cell_type": "code",
   "execution_count": 20,
   "id": "525b612d-a23d-4b8f-837a-e6cb5973dffd",
   "metadata": {},
   "outputs": [],
   "source": [
    "\"\"\"Ant System Metaherustic\"\"\"\n",
    "class ACOptimizer:\n",
    "    \n",
    "    def __init__(self, ants, evaporation_rate,\n",
    "                 alpha = 1.0, beta = 0.0) -> None:\n",
    "        \n",
    "        \"\"\"\n",
    "        ACO algorithm initialization\n",
    "        \n",
    "        Args:\n",
    "            ants (int): Number of ants in the instance\n",
    "            evaporation_date (float):  pheromone's evaporation speed for each iteration\n",
    "            \n",
    "        \"\"\"\n",
    "        self.ants = ants\n",
    "        self.evaporation_rate = evaporation_rate\n",
    "        self.heuristic_alpha = alpha\n",
    "        self.heuristic_beta = beta\n",
    "        \n",
    "    def __str__(self):\n",
    "        return \"ACO(ants = {ants}, evaporation_rate = {evaporation_rate})\".format(ants = self.ants, evaporation_rate = self.evaporation_rate)\n",
    "    \n",
    "    \n",
    "    def execute(self):\n",
    "        pass\n",
    "        #TODO \n",
    "        # 1. Inicialization\n",
    "        # 2. Ant solutions\n",
    "        # 3. Local Search\n",
    "        # 4. Global update pheromones\n"
   ]
  },
  {
   "cell_type": "code",
   "execution_count": 21,
   "id": "b33d3512-429b-44b8-91cf-227f11137e51",
   "metadata": {},
   "outputs": [
    {
     "name": "stdout",
     "output_type": "stream",
     "text": [
      "ACO(ants = 100, evaporation_rate = 0.6)\n"
     ]
    }
   ],
   "source": [
    "aco_instance = ACOptimizer(ants = 100, evaporation_rate=0.6)\n",
    "print(aco_instance)"
   ]
  },
  {
   "cell_type": "markdown",
   "id": "df588760-38de-4e3f-be22-07c9bc98ea39",
   "metadata": {},
   "source": [
    "# Step for ACO + Set Cover Code"
   ]
  },
  {
   "cell_type": "code",
   "execution_count": 23,
   "id": "fc8756b3-de70-48f7-92f0-a4c159f4528d",
   "metadata": {},
   "outputs": [],
   "source": [
    "class SetCoverACO(ACOptimizer):\n",
    "    \n",
    "    def __init__(self, universe, subsets, costs):\n",
    "        \"\"\"\n",
    "        \n",
    "        \"\"\"\n",
    "        if len(subsets) != len(costs):\n",
    "            pass\n",
    "            "
   ]
  },
  {
   "cell_type": "code",
   "execution_count": 90,
   "id": "9fec4c0c-0e77-4c1f-b367-8fb8f3c7228a",
   "metadata": {},
   "outputs": [],
   "source": [
    "\"\"\"\"Data process\"\"\"\n",
    "\n",
    "class DataReader:\n",
    "\n",
    "\n",
    "    def __init__(self, file):\n",
    "        \"\"\"\n",
    "        DataReader Initialization\n",
    "        \n",
    "        Args:\n",
    "            file (str): filepath \n",
    "        \"\"\"\n",
    "        self.file = file\n",
    "        self.data = self._readTXT()\n",
    "        self.universe, self.sets = tuple( int(i) for i in self.data[0].split() ) \n",
    "        self.sets, self.costs  = self._processTXT(self.data)\n",
    "\n",
    "    def _readTXT(self):\n",
    "        \"\"\"\n",
    "        Reads filepath.\n",
    "        \"\"\"\n",
    "        with open(self.file) as f:\n",
    "            data = f.readlines()\n",
    "        return data\n",
    "\n",
    "    def _processTXT(self, data):\n",
    "        \"\"\"\n",
    "        Generate sets and costs\n",
    "        \n",
    "        Args:\n",
    "            data (List): List of lines of data read\n",
    "        \n",
    "        \"\"\"\n",
    "        \n",
    "        sets = [ [ int(j) for j in i.split()[1: ] ] for i in data[1:] ]\n",
    "        costs = [ int(i.split()[0])  for i in data[1:] ]\n",
    "        return  sets, costs\n"
   ]
  },
  {
   "cell_type": "code",
   "execution_count": 97,
   "id": "e95689da-dcd3-4473-aa60-947b905034ac",
   "metadata": {},
   "outputs": [],
   "source": [
    "data1 = DataReader(file = \"../aco_sc_data/rail2586/rail2586\")"
   ]
  },
  {
   "cell_type": "code",
   "execution_count": 99,
   "id": "68212935-ccf7-4851-a250-4cc90e667ca4",
   "metadata": {},
   "outputs": [
    {
     "data": {
      "text/plain": [
       "920683"
      ]
     },
     "execution_count": 99,
     "metadata": {},
     "output_type": "execute_result"
    }
   ],
   "source": [
    "len(data1.costs)"
   ]
  },
  {
   "cell_type": "code",
   "execution_count": 101,
   "id": "a99b27f0-ccf6-4567-876e-c4359ad5190e",
   "metadata": {},
   "outputs": [
    {
     "data": {
      "text/plain": [
       "' 2586 920683 \\n'"
      ]
     },
     "execution_count": 101,
     "metadata": {},
     "output_type": "execute_result"
    }
   ],
   "source": [
    "data1.data[0]"
   ]
  },
  {
   "cell_type": "markdown",
   "id": "9fffa697-4062-4773-b1aa-e3b3182f7078",
   "metadata": {},
   "source": [
    "# Results reporting and analytics"
   ]
  },
  {
   "cell_type": "code",
   "execution_count": null,
   "id": "17b3bc3a-864c-4c17-ae32-e1e96703c748",
   "metadata": {},
   "outputs": [],
   "source": []
  }
 ],
 "metadata": {
  "kernelspec": {
   "display_name": "Python 3 (ipykernel)",
   "language": "python",
   "name": "python3"
  },
  "language_info": {
   "codemirror_mode": {
    "name": "ipython",
    "version": 3
   },
   "file_extension": ".py",
   "mimetype": "text/x-python",
   "name": "python",
   "nbconvert_exporter": "python",
   "pygments_lexer": "ipython3",
   "version": "3.9.7"
  }
 },
 "nbformat": 4,
 "nbformat_minor": 5
}
