{
 "cells": [
  {
   "cell_type": "code",
   "execution_count": 6,
   "id": "4424322c-2ca2-475f-8942-4a59f8c41cc3",
   "metadata": {},
   "outputs": [],
   "source": [
    "import numpy as np\n",
    "import random\n",
    "from typing import Dict, List, Set\n",
    "import logging\n",
    "\n",
    "import seaborn as sns"
   ]
  },
  {
   "cell_type": "markdown",
   "id": "df588760-38de-4e3f-be22-07c9bc98ea39",
   "metadata": {},
   "source": [
    "# Step for ACO + Set Cover Code"
   ]
  },
  {
   "cell_type": "code",
   "execution_count": 7,
   "id": "9fec4c0c-0e77-4c1f-b367-8fb8f3c7228a",
   "metadata": {},
   "outputs": [],
   "source": [
    "\"\"\"\"Data process\"\"\"\n",
    "\n",
    "class DataReader:\n",
    "\n",
    "\n",
    "    def __init__(self, file):\n",
    "        \"\"\"\n",
    "        DataReader Initialization\n",
    "        \n",
    "        Args:\n",
    "            file (str): filepath \n",
    "        \"\"\"\n",
    "        self.file = file\n",
    "        self.data = self._readTXT()\n",
    "        self.universe, self.sets = tuple( int(i) for i in self.data[0].split() ) \n",
    "        self.sets, self.costs  = self._processTXT(self.data)\n",
    "\n",
    "    def _readTXT(self):\n",
    "        \"\"\"\n",
    "        Reads filepath.\n",
    "        \"\"\"\n",
    "        with open(self.file) as f:\n",
    "            data = f.readlines()\n",
    "        return data\n",
    "\n",
    "    def _processTXT(self, data):\n",
    "        \"\"\"\n",
    "        Generate sets and costs\n",
    "        \n",
    "        Args:\n",
    "            data (List): List of lines of data read\n",
    "        \n",
    "        \"\"\"\n",
    "        \n",
    "        sets = [ [ int(j) for j in i.split()[1: ] ] for i in data[1:] ]\n",
    "        costs = [ int(i.split()[0])  for i in data[1:] ]\n",
    "        return  sets, costs\n"
   ]
  },
  {
   "cell_type": "markdown",
   "id": "0450f121-08fc-4866-8685-20283761b9db",
   "metadata": {},
   "source": [
    "# Set Covering class"
   ]
  },
  {
   "cell_type": "code",
   "execution_count": 8,
   "id": "4adfca5d-6c93-4637-ab3e-5420e3f978ee",
   "metadata": {},
   "outputs": [],
   "source": [
    "import logging\n",
    "\n",
    "\n",
    "class BaseLogger:\n",
    "    \n",
    "    \n",
    "    def __init__(self, logger_name: str = \"Model Logger\") -> None:\n",
    "        \n",
    "        self.logger_name = logger_name\n",
    "        self.logger      =  logging.getLogger(self.logger_name)\n",
    "        self.__logger_settings()\n",
    "        # TODO: Check if the only handler needed is the StreamHandler\n",
    "        if len(self.logger.handlers) > 2:\n",
    "            for handler in self.logger.handlers: self.logger.removeHandler(handler)\n",
    "        \n",
    "        \n",
    "    def __logger_settings(self) -> None:\n",
    "        \n",
    "        self.logger.setLevel(logging.INFO)\n",
    "        logFileHandler = logging.FileHandler(\"./app.log\",mode='w')\n",
    "        consoleHandler  = logging.StreamHandler()\n",
    "        logFormatter = logging.Formatter('%(name)s - %(levelname)s - [%(asctime)s] - %(message)s')\n",
    "        \n",
    "        consoleHandler.setFormatter(logFormatter)\n",
    "        logFileHandler.setFormatter(logFormatter)\n",
    "        \n",
    "        self.logger.addHandler(logFileHandler)\n",
    "        self.logger.addHandler(consoleHandler)\n"
   ]
  },
  {
   "cell_type": "code",
   "execution_count": 9,
   "id": "cbbde4f2-999e-44cd-95a5-937a55740961",
   "metadata": {},
   "outputs": [],
   "source": [
    "from collections import Counter\n",
    "\n",
    "class SetCovering(BaseLogger):\n",
    "    \n",
    "    \n",
    "    def __init__(self, subsets: List, costs: List) -> None:\n",
    "        \"\"\" Set convering initialization\n",
    "        \"\"\"\n",
    "        super().__init__()\n",
    "        self.subsets = subsets\n",
    "        self.costs   = costs\n",
    "        self.universe = self.__identify_unique_items()\n",
    "        self.total_set_elements = len(self.universe)\n",
    "        self.total_subsets      = len(subsets)\n",
    "        self.item_scores        = self.__calculate_item_scores()\n",
    "        self.set_scores         = self.__calculate_set_scores()\n",
    "        self.set_probabilities  = self.__calculate_set_probabilities()\n",
    "        self.max_len_set        = max([len(subset) for subset in self.subsets])\n",
    "    \n",
    "    def __identify_unique_items(self) -> Set:\n",
    "        \"\"\"Find all unique elements of data structure\n",
    "        \n",
    "        \"\"\"\n",
    "        return { item for instance in self.subsets for item in instance }\n",
    "    \n",
    "    def __calculate_item_scores(self):\n",
    "        item_counts  = dict(\n",
    "            Counter([item for sublist in self.subsets for item in sublist])\n",
    "        )\n",
    "        \n",
    "        item_values = {}\n",
    "        for key, value in item_counts.items():\n",
    "            item_values[key] = 1 / (value / self.total_subsets)\n",
    "        \n",
    "        SCORE_MAX = max(item_values.values())\n",
    "        SCORE_MIN = min(item_values.values())\n",
    "        \n",
    "        item_scores = {}\n",
    "        for key, value in item_values.items():\n",
    "            item_scores[key] = SetCovering.max_min_normalizer(value, max_val = SCORE_MAX, min_val = SCORE_MIN)\n",
    "            \n",
    "        return item_scores\n",
    "\n",
    "    def __calculate_set_probabilities(self):\n",
    "        \"\"\"Return the average score for each subset\"\"\"\n",
    "        scores = [np.mean([self.item_scores[i] for i in subset])   for subset in self.subsets]\n",
    "        \n",
    "        return  self.__calculate_probabilities(scores)\n",
    "    \n",
    "    \n",
    "    def __calculate_probabilities(self, vals):\n",
    "        total_sum     = sum(vals)\n",
    "        return [ val / total_sum  for val in vals ]\n",
    "    \n",
    "    def __calculate_set_scores(self):\n",
    "        \n",
    "        total_subsets = []\n",
    "        for subset in self.subsets:\n",
    "            subset_scores = [self.item_scores[i] for i in subset]\n",
    "            subset_overall_score = np.average(subset_scores, weights= [item / sum(subset_scores) for item in subset_scores])\n",
    "            total_subsets.append(subset_overall_score)\n",
    "        return total_subsets\n",
    "        \n",
    "    \n",
    "    def cover(self, probs = None):\n",
    "        \"\"\" Create a set covering solution\n",
    "        \"\"\"\n",
    "        \n",
    "        if not probs:\n",
    "            prob_dist = self.set_probabilities\n",
    "        \n",
    "        all_available_subsets = [*range(self.total_subsets)]\n",
    "        \n",
    "    \n",
    "        covered = set()\n",
    "        selected_subsets = []\n",
    "        cost = 0\n",
    "        while covered != self.universe:\n",
    "\n",
    "            subset_idx = self.__select_set(set_list = all_available_subsets)\n",
    "            subset     = set( self.subsets[subset_idx] )\n",
    "            \n",
    "            selected_subsets.append(subset_idx)\n",
    "            covered |= subset\n",
    "            \n",
    "            cost += self.costs[subset_idx]\n",
    "            all_available_subsets.remove(subset_idx)\n",
    "            \n",
    "        \n",
    "        self.logger.info(f\">>> Total covering cost: {cost}\")\n",
    "        self.logger.info(f\">>> Total subsets selected: {len(selected_subsets)}\")\n",
    "        \n",
    "        return selected_subsets, cost\n",
    "\n",
    "        \n",
    "    def __select_set(self, set_list: List, probs = None):\n",
    "        \"\"\"Select a set index, regarding if the set already have appended to a subset_list\"\"\"\n",
    "        subset_idx = random.randint(0, len(set_list) - 1)\n",
    "        return set_list[subset_idx]\n",
    "    \n",
    "    @staticmethod\n",
    "    def max_min_normalizer(num, max_val, min_val):\n",
    "        return (num - min_val) / (max_val - min_val)\n",
    "\n",
    "            "
   ]
  },
  {
   "cell_type": "markdown",
   "id": "d593364b-5967-42e0-bdc2-a236fe0cac15",
   "metadata": {},
   "source": [
    "# ACO"
   ]
  },
  {
   "cell_type": "code",
   "execution_count": 55,
   "id": "c14708dd-b06b-42c4-93b5-73be076fcaac",
   "metadata": {},
   "outputs": [],
   "source": [
    "\"\"\"Ant System Metaherustic\"\"\"\n",
    "\n",
    "import multiprocessing\n",
    "\n",
    "\n",
    "class ACOptimizer(BaseLogger):\n",
    "    \n",
    "    def __init__(self, \n",
    "                 set_cover: SetCovering,\n",
    "                 ants: int = 10,\n",
    "                 evaporation_rate: float = 0.0,\n",
    "                 alpha: float = 1.0,\n",
    "                 beta:float = 0.0) -> None:\n",
    "        \n",
    "        \"\"\"\n",
    "        ACO algorithm initialization\n",
    "        \n",
    "        Args:\n",
    "            saet_cover (SetCovering): set cover class with the subsets and costs\n",
    "            ants (int): Number of ants in the instance\n",
    "            evaporation_date (float):  pheromone's evaporation speed for each iteration\n",
    "            \n",
    "        \"\"\"\n",
    "        super().__init__()\n",
    "        self.set_cover = set_cover\n",
    "        self.ants = ants\n",
    "        self.evaporation_rate = evaporation_rate\n",
    "        self.heuristic_alpha = alpha\n",
    "        self.heuristic_beta = beta\n",
    "        self.set_initial_pheromones = self.__calc_pheromone()\n",
    "        #self.set_pheromones = [ 1 / self.set_cover.total_subsets for pheromone in self.set_initial_pheromones]\n",
    "        self.set_pheromones = self.set_initial_pheromones\n",
    "        self.initialized = False\n",
    "        \n",
    "    def __str__(self):\n",
    "        return \"ACO(ants = {ants}, evaporation_rate = {evaporation_rate})\".format(ants = self.ants, evaporation_rate = self.evaporation_rate)\n",
    "    \n",
    "    \n",
    "    def __calc_obj_function(self):\n",
    "        pass\n",
    "    \n",
    "    def __calc_pheromone(self):\n",
    "        \n",
    "        \"\"\"Calculates pheromone level by each set based on the length of the set\n",
    "        \n",
    "        \"\"\"\n",
    "        \n",
    "        pheromones = []\n",
    "        for i, subset in enumerate(self.set_cover.subsets):\n",
    "                \n",
    "            length_score =  len(subset) / self.set_cover.max_len_set\n",
    "            rarity_score =  self.set_cover.set_probabilities[i]\n",
    "            cost_score   =  self.set_cover.costs[i]\n",
    "                \n",
    "            metaheuristic_information = length_score * 0.1 + rarity_score * 0.6 + (1 / cost_score) * 0.3\n",
    "            pheromones.append(metaheuristic_information)\n",
    "            \n",
    "        return pheromones\n",
    "            \n",
    "    \n",
    "    def __initialize(self):\n",
    "        \n",
    "        pool = ACOptimizer.make_pool()\n",
    "        result = pool.map(self.set_cover.cover, [ ant for ant in range(self.ants) ])\n",
    "        pool.close()\n",
    "        return result\n",
    "    \n",
    "    def __update_probabilities(self, solutions) -> None:\n",
    "        \"\"\"Update probabilities based on past solutions and evaporation rate\"\"\"\n",
    "        \n",
    "        self.set_pheromones = [pheromone * (1 - self.evaporation_rate)  for pheromone in self.set_pheromones]\n",
    "        \n",
    "        for solution in solutions:\n",
    "            for i, subset in enumerate(solution[0]):\n",
    "                self.set_pheromones[i] += self.set_initial_pheromones[i]\n",
    "        \n",
    "        \n",
    "    def build_ant_solution(self, ant):\n",
    "        \n",
    "        #pool = ACOptimizer.make_pool()\n",
    "        solutions = self.__set_cover_ant_solution()\n",
    "        #pool.close()\n",
    "        return solutions\n",
    "    \n",
    "    def __set_cover_ant_solution(self):\n",
    "        \n",
    "        probabilities = self.__weight_pheromones(self.set_pheromones)\n",
    "        all_sets = [*range(self.set_cover.total_subsets)]\n",
    "        \n",
    "        covered = set()\n",
    "        selected_subsets = []\n",
    "        cost = 0\n",
    "        while covered != self.set_cover.universe:\n",
    "\n",
    "            subset_idx = np.random.choice(a = all_sets , p = probabilities)\n",
    "            subset     = set( self.set_cover.subsets[subset_idx] )\n",
    "\n",
    "            if subset_idx in selected_subsets:\n",
    "                continue\n",
    "\n",
    "            selected_subsets.append(subset_idx)\n",
    "            covered |= subset\n",
    "\n",
    "            cost += self.set_cover.costs[subset_idx]\n",
    "    \n",
    "        \n",
    "        self.logger.info(f\">>> Total covering cost: {cost}\")\n",
    "        self.logger.info(f\">>> Total subsets selected: {len(selected_subsets)}\")\n",
    "        \n",
    "        return selected_subsets, cost\n",
    "    \n",
    "    def __weight_pheromones(self, pheromones):\n",
    "        total_sum     = sum(pheromones)\n",
    "        return [ val / total_sum  for val in pheromones ]\n",
    "    \n",
    "    def __select_top_n_sets(self, arr, n=100):\n",
    "        return np.argsort(arr)[-n:]\n",
    "    \n",
    "    \n",
    "    def local_search(self, solution, dropout = 0.015):\n",
    "        \n",
    "        best_sets = self.__select_top_n_sets(self.set_pheromones)\n",
    "        sample_size = int( (1 - dropout) * len(solution[0]) )\n",
    "        \n",
    "        dropout_solution = random.sample(solution[0], sample_size)\n",
    "        for bst in best_sets:\n",
    "            if bst not in dropout_solution:\n",
    "                dropout_solution.append(bst)\n",
    "                \n",
    "        covered = set(dropout_solution)\n",
    "        cost = sum([ self.set_cover.costs[subset_idx] for subset_idx in dropout_solution])\n",
    "        complement_sets = [subset for subset in range(self.set_cover.total_subsets) if subset not in dropout_solution]\n",
    "        while covered != self.set_cover.universe:\n",
    "            \n",
    "            subset_idx = np.random.choice(a = complement_sets)\n",
    "            subset     = set( self.set_cover.subsets[subset_idx] )\n",
    "            \n",
    "            if subset_idx in dropout_solution:\n",
    "                continue\n",
    "                \n",
    "            dropout_solution.append(subset_idx)\n",
    "            covered |= subset\n",
    "\n",
    "            cost += self.set_cover.costs[subset_idx]\n",
    "        \n",
    "        self.logger.info(f\">>> ------------------------------------------------------------------------------\")\n",
    "        self.logger.info(f\">>> LOCAL SEARCH: Total covering cost: {cost}\")\n",
    "        self.logger.info(f\">>> LOCAL SEARCH: Total subsets selected: {len(selected_subsets)}\")\n",
    "        \n",
    "        return dropout_solution, cost\n",
    "        \n",
    "        \n",
    "    @staticmethod\n",
    "    def make_pool():\n",
    "        \n",
    "        AVAILABLE_CORES = multiprocessing.cpu_count()\n",
    "        pool = multiprocessing.Pool(AVAILABLE_CORES)\n",
    "        \n",
    "        return pool\n",
    "        \n",
    "    \n",
    "    def execute(self, iterations=2, mode='min', early_stopping_count=20, verbose=True) :\n",
    "        \n",
    "        \n",
    "        # 1. Inicialization\n",
    "        # Calculate pheromones, \n",
    "        f_solutions = self.__initialize()\n",
    "        self.__update_probabilities(f_solutions)\n",
    "        for _ in range(iterations):\n",
    "            print(f\" iteratcio {_}: \")\n",
    "            pool = ACOptimizer.make_pool()\n",
    "            solutions = pool.map(self.build_ant_solution, [1 for i in range(self.ants)])\n",
    "            \n",
    "            # local search\n",
    "            ls_solutions = pool.map(self.local_search, solutions)\n",
    "            iteration_solutions = [ls_solution if ls_solution[1] < solution else solution for ls_solution, solution in zip(ls_solutions, solutions)]\n",
    "            pool.close() \n",
    "            # Global update pheromones\n",
    "            self.__update_probabilities(iteration_solutions)\n",
    "            \n",
    "        pool.close() \n",
    "        return solutions\n",
    "        \n",
    "        \n",
    "\n"
   ]
  },
  {
   "cell_type": "markdown",
   "id": "1daf3acb-b41e-4d09-97e0-fb1acfd6c6c9",
   "metadata": {},
   "source": [
    "## Set Covering Pipeline"
   ]
  },
  {
   "cell_type": "code",
   "execution_count": 26,
   "id": "ee3a67c9-e153-4e00-bb1e-22ab5fd9d398",
   "metadata": {},
   "outputs": [
    {
     "name": "stdout",
     "output_type": "stream",
     "text": [
      "1 4\n",
      "2 5\n",
      "3 6\n"
     ]
    }
   ],
   "source": [
    "a = [1,2,3]\n",
    "b = [4,5,6]\n",
    "\n",
    "for a,b in zip(a,b):\n",
    "    print(a,b)"
   ]
  },
  {
   "cell_type": "code",
   "execution_count": 56,
   "id": "070ff423-6664-4210-9b75-591141a5c82f",
   "metadata": {
    "scrolled": true,
    "tags": []
   },
   "outputs": [],
   "source": [
    "set_cover_data = DataReader(file = \"../aco_sc_data/sample_500_aco.txt\")\n",
    "set_cover_instance = SetCovering(set_cover_data.sets, costs=set_cover_data.costs)\n",
    "aco_optimizer = ACOptimizer(set_cover=set_cover_instance, ants = 3)"
   ]
  },
  {
   "cell_type": "code",
   "execution_count": 57,
   "id": "13f6faf4-9524-404d-95ee-d59a6e1e6aff",
   "metadata": {
    "scrolled": true,
    "tags": []
   },
   "outputs": [
    {
     "name": "stderr",
     "output_type": "stream",
     "text": [
      "Model Logger - INFO - [2021-11-28 22:58:07,434] - >>> Total covering cost: 5600\n",
      "Model Logger - INFO - [2021-11-28 22:58:07,434] - >>> Total covering cost: 5600\n",
      "Model Logger - INFO - [2021-11-28 22:58:07,439] - >>> Total subsets selected: 2850\n",
      "Model Logger - INFO - [2021-11-28 22:58:07,439] - >>> Total subsets selected: 2850\n",
      "Model Logger - INFO - [2021-11-28 22:58:07,456] - >>> Total covering cost: 5622\n",
      "Model Logger - INFO - [2021-11-28 22:58:07,456] - >>> Total covering cost: 5622\n",
      "Model Logger - INFO - [2021-11-28 22:58:07,463] - >>> Total subsets selected: 2859\n",
      "Model Logger - INFO - [2021-11-28 22:58:07,463] - >>> Total subsets selected: 2859\n",
      "Model Logger - INFO - [2021-11-28 22:58:07,466] - >>> Total covering cost: 5353\n",
      "Model Logger - INFO - [2021-11-28 22:58:07,466] - >>> Total covering cost: 5353\n",
      "Model Logger - INFO - [2021-11-28 22:58:07,475] - >>> Total subsets selected: 2725\n",
      "Model Logger - INFO - [2021-11-28 22:58:07,475] - >>> Total subsets selected: 2725\n"
     ]
    },
    {
     "name": "stdout",
     "output_type": "stream",
     "text": [
      " iteratcio 0: \n"
     ]
    },
    {
     "name": "stderr",
     "output_type": "stream",
     "text": [
      "Model Logger - INFO - [2021-11-28 22:58:09,902] - >>> Total covering cost: 5552\n",
      "Model Logger - INFO - [2021-11-28 22:58:09,902] - >>> Total covering cost: 5552\n",
      "Model Logger - INFO - [2021-11-28 22:58:09,929] - >>> Total subsets selected: 2828\n",
      "Model Logger - INFO - [2021-11-28 22:58:09,929] - >>> Total subsets selected: 2828\n",
      "Model Logger - INFO - [2021-11-28 22:58:09,946] - >>> Total covering cost: 5552\n",
      "Model Logger - INFO - [2021-11-28 22:58:09,946] - >>> Total covering cost: 5552\n",
      "Model Logger - INFO - [2021-11-28 22:58:09,961] - >>> Total subsets selected: 2828\n",
      "Model Logger - INFO - [2021-11-28 22:58:09,958] - >>> Total covering cost: 5552\n",
      "Model Logger - INFO - [2021-11-28 22:58:09,961] - >>> Total subsets selected: 2828\n",
      "Model Logger - INFO - [2021-11-28 22:58:09,958] - >>> Total covering cost: 5552\n",
      "Model Logger - INFO - [2021-11-28 22:58:09,966] - >>> Total subsets selected: 2828\n",
      "Model Logger - INFO - [2021-11-28 22:58:09,966] - >>> Total subsets selected: 2828\n"
     ]
    },
    {
     "ename": "KeyboardInterrupt",
     "evalue": "",
     "output_type": "error",
     "traceback": [
      "\u001b[0;31m---------------------------------------------------------------------------\u001b[0m",
      "\u001b[0;31mKeyboardInterrupt\u001b[0m                         Traceback (most recent call last)",
      "\u001b[0;32m/tmp/ipykernel_13570/3361065471.py\u001b[0m in \u001b[0;36m<module>\u001b[0;34m\u001b[0m\n\u001b[0;32m----> 1\u001b[0;31m \u001b[0mant_solutions\u001b[0m \u001b[0;34m=\u001b[0m \u001b[0maco_optimizer\u001b[0m\u001b[0;34m.\u001b[0m\u001b[0mexecute\u001b[0m\u001b[0;34m(\u001b[0m\u001b[0miterations\u001b[0m\u001b[0;34m=\u001b[0m\u001b[0;36m3\u001b[0m\u001b[0;34m)\u001b[0m\u001b[0;34m\u001b[0m\u001b[0;34m\u001b[0m\u001b[0m\n\u001b[0m",
      "\u001b[0;32m/tmp/ipykernel_13570/2831840882.py\u001b[0m in \u001b[0;36mexecute\u001b[0;34m(self, iterations, mode, early_stopping_count, verbose)\u001b[0m\n\u001b[1;32m    173\u001b[0m \u001b[0;34m\u001b[0m\u001b[0m\n\u001b[1;32m    174\u001b[0m             \u001b[0;31m# local search\u001b[0m\u001b[0;34m\u001b[0m\u001b[0;34m\u001b[0m\u001b[0m\n\u001b[0;32m--> 175\u001b[0;31m             \u001b[0mls_solutions\u001b[0m \u001b[0;34m=\u001b[0m \u001b[0mpool\u001b[0m\u001b[0;34m.\u001b[0m\u001b[0mmap\u001b[0m\u001b[0;34m(\u001b[0m\u001b[0mself\u001b[0m\u001b[0;34m.\u001b[0m\u001b[0mlocal_search\u001b[0m\u001b[0;34m,\u001b[0m \u001b[0msolutions\u001b[0m\u001b[0;34m)\u001b[0m\u001b[0;34m\u001b[0m\u001b[0;34m\u001b[0m\u001b[0m\n\u001b[0m\u001b[1;32m    176\u001b[0m             \u001b[0miteration_solutions\u001b[0m \u001b[0;34m=\u001b[0m \u001b[0;34m[\u001b[0m\u001b[0mls_solution\u001b[0m \u001b[0;32mif\u001b[0m \u001b[0mls_solution\u001b[0m\u001b[0;34m[\u001b[0m\u001b[0;36m1\u001b[0m\u001b[0;34m]\u001b[0m \u001b[0;34m<\u001b[0m \u001b[0msolution\u001b[0m \u001b[0;32melse\u001b[0m \u001b[0msolution\u001b[0m \u001b[0;32mfor\u001b[0m \u001b[0mls_solution\u001b[0m\u001b[0;34m,\u001b[0m \u001b[0msolution\u001b[0m \u001b[0;32min\u001b[0m \u001b[0mzip\u001b[0m\u001b[0;34m(\u001b[0m\u001b[0mls_solutions\u001b[0m\u001b[0;34m,\u001b[0m \u001b[0msolutions\u001b[0m\u001b[0;34m)\u001b[0m\u001b[0;34m]\u001b[0m\u001b[0;34m\u001b[0m\u001b[0;34m\u001b[0m\u001b[0m\n\u001b[1;32m    177\u001b[0m \u001b[0;34m\u001b[0m\u001b[0m\n",
      "\u001b[0;32m~/.pyenv/versions/3.9.7/lib/python3.9/multiprocessing/pool.py\u001b[0m in \u001b[0;36mmap\u001b[0;34m(self, func, iterable, chunksize)\u001b[0m\n\u001b[1;32m    362\u001b[0m         \u001b[0;32min\u001b[0m \u001b[0ma\u001b[0m \u001b[0mlist\u001b[0m \u001b[0mthat\u001b[0m \u001b[0;32mis\u001b[0m \u001b[0mreturned\u001b[0m\u001b[0;34m.\u001b[0m\u001b[0;34m\u001b[0m\u001b[0;34m\u001b[0m\u001b[0m\n\u001b[1;32m    363\u001b[0m         '''\n\u001b[0;32m--> 364\u001b[0;31m         \u001b[0;32mreturn\u001b[0m \u001b[0mself\u001b[0m\u001b[0;34m.\u001b[0m\u001b[0m_map_async\u001b[0m\u001b[0;34m(\u001b[0m\u001b[0mfunc\u001b[0m\u001b[0;34m,\u001b[0m \u001b[0miterable\u001b[0m\u001b[0;34m,\u001b[0m \u001b[0mmapstar\u001b[0m\u001b[0;34m,\u001b[0m \u001b[0mchunksize\u001b[0m\u001b[0;34m)\u001b[0m\u001b[0;34m.\u001b[0m\u001b[0mget\u001b[0m\u001b[0;34m(\u001b[0m\u001b[0;34m)\u001b[0m\u001b[0;34m\u001b[0m\u001b[0;34m\u001b[0m\u001b[0m\n\u001b[0m\u001b[1;32m    365\u001b[0m \u001b[0;34m\u001b[0m\u001b[0m\n\u001b[1;32m    366\u001b[0m     \u001b[0;32mdef\u001b[0m \u001b[0mstarmap\u001b[0m\u001b[0;34m(\u001b[0m\u001b[0mself\u001b[0m\u001b[0;34m,\u001b[0m \u001b[0mfunc\u001b[0m\u001b[0;34m,\u001b[0m \u001b[0miterable\u001b[0m\u001b[0;34m,\u001b[0m \u001b[0mchunksize\u001b[0m\u001b[0;34m=\u001b[0m\u001b[0;32mNone\u001b[0m\u001b[0;34m)\u001b[0m\u001b[0;34m:\u001b[0m\u001b[0;34m\u001b[0m\u001b[0;34m\u001b[0m\u001b[0m\n",
      "\u001b[0;32m~/.pyenv/versions/3.9.7/lib/python3.9/multiprocessing/pool.py\u001b[0m in \u001b[0;36mget\u001b[0;34m(self, timeout)\u001b[0m\n\u001b[1;32m    763\u001b[0m \u001b[0;34m\u001b[0m\u001b[0m\n\u001b[1;32m    764\u001b[0m     \u001b[0;32mdef\u001b[0m \u001b[0mget\u001b[0m\u001b[0;34m(\u001b[0m\u001b[0mself\u001b[0m\u001b[0;34m,\u001b[0m \u001b[0mtimeout\u001b[0m\u001b[0;34m=\u001b[0m\u001b[0;32mNone\u001b[0m\u001b[0;34m)\u001b[0m\u001b[0;34m:\u001b[0m\u001b[0;34m\u001b[0m\u001b[0;34m\u001b[0m\u001b[0m\n\u001b[0;32m--> 765\u001b[0;31m         \u001b[0mself\u001b[0m\u001b[0;34m.\u001b[0m\u001b[0mwait\u001b[0m\u001b[0;34m(\u001b[0m\u001b[0mtimeout\u001b[0m\u001b[0;34m)\u001b[0m\u001b[0;34m\u001b[0m\u001b[0;34m\u001b[0m\u001b[0m\n\u001b[0m\u001b[1;32m    766\u001b[0m         \u001b[0;32mif\u001b[0m \u001b[0;32mnot\u001b[0m \u001b[0mself\u001b[0m\u001b[0;34m.\u001b[0m\u001b[0mready\u001b[0m\u001b[0;34m(\u001b[0m\u001b[0;34m)\u001b[0m\u001b[0;34m:\u001b[0m\u001b[0;34m\u001b[0m\u001b[0;34m\u001b[0m\u001b[0m\n\u001b[1;32m    767\u001b[0m             \u001b[0;32mraise\u001b[0m \u001b[0mTimeoutError\u001b[0m\u001b[0;34m\u001b[0m\u001b[0;34m\u001b[0m\u001b[0m\n",
      "\u001b[0;32m~/.pyenv/versions/3.9.7/lib/python3.9/multiprocessing/pool.py\u001b[0m in \u001b[0;36mwait\u001b[0;34m(self, timeout)\u001b[0m\n\u001b[1;32m    760\u001b[0m \u001b[0;34m\u001b[0m\u001b[0m\n\u001b[1;32m    761\u001b[0m     \u001b[0;32mdef\u001b[0m \u001b[0mwait\u001b[0m\u001b[0;34m(\u001b[0m\u001b[0mself\u001b[0m\u001b[0;34m,\u001b[0m \u001b[0mtimeout\u001b[0m\u001b[0;34m=\u001b[0m\u001b[0;32mNone\u001b[0m\u001b[0;34m)\u001b[0m\u001b[0;34m:\u001b[0m\u001b[0;34m\u001b[0m\u001b[0;34m\u001b[0m\u001b[0m\n\u001b[0;32m--> 762\u001b[0;31m         \u001b[0mself\u001b[0m\u001b[0;34m.\u001b[0m\u001b[0m_event\u001b[0m\u001b[0;34m.\u001b[0m\u001b[0mwait\u001b[0m\u001b[0;34m(\u001b[0m\u001b[0mtimeout\u001b[0m\u001b[0;34m)\u001b[0m\u001b[0;34m\u001b[0m\u001b[0;34m\u001b[0m\u001b[0m\n\u001b[0m\u001b[1;32m    763\u001b[0m \u001b[0;34m\u001b[0m\u001b[0m\n\u001b[1;32m    764\u001b[0m     \u001b[0;32mdef\u001b[0m \u001b[0mget\u001b[0m\u001b[0;34m(\u001b[0m\u001b[0mself\u001b[0m\u001b[0;34m,\u001b[0m \u001b[0mtimeout\u001b[0m\u001b[0;34m=\u001b[0m\u001b[0;32mNone\u001b[0m\u001b[0;34m)\u001b[0m\u001b[0;34m:\u001b[0m\u001b[0;34m\u001b[0m\u001b[0;34m\u001b[0m\u001b[0m\n",
      "\u001b[0;32m~/.pyenv/versions/3.9.7/lib/python3.9/threading.py\u001b[0m in \u001b[0;36mwait\u001b[0;34m(self, timeout)\u001b[0m\n\u001b[1;32m    572\u001b[0m             \u001b[0msignaled\u001b[0m \u001b[0;34m=\u001b[0m \u001b[0mself\u001b[0m\u001b[0;34m.\u001b[0m\u001b[0m_flag\u001b[0m\u001b[0;34m\u001b[0m\u001b[0;34m\u001b[0m\u001b[0m\n\u001b[1;32m    573\u001b[0m             \u001b[0;32mif\u001b[0m \u001b[0;32mnot\u001b[0m \u001b[0msignaled\u001b[0m\u001b[0;34m:\u001b[0m\u001b[0;34m\u001b[0m\u001b[0;34m\u001b[0m\u001b[0m\n\u001b[0;32m--> 574\u001b[0;31m                 \u001b[0msignaled\u001b[0m \u001b[0;34m=\u001b[0m \u001b[0mself\u001b[0m\u001b[0;34m.\u001b[0m\u001b[0m_cond\u001b[0m\u001b[0;34m.\u001b[0m\u001b[0mwait\u001b[0m\u001b[0;34m(\u001b[0m\u001b[0mtimeout\u001b[0m\u001b[0;34m)\u001b[0m\u001b[0;34m\u001b[0m\u001b[0;34m\u001b[0m\u001b[0m\n\u001b[0m\u001b[1;32m    575\u001b[0m             \u001b[0;32mreturn\u001b[0m \u001b[0msignaled\u001b[0m\u001b[0;34m\u001b[0m\u001b[0;34m\u001b[0m\u001b[0m\n\u001b[1;32m    576\u001b[0m \u001b[0;34m\u001b[0m\u001b[0m\n",
      "\u001b[0;32m~/.pyenv/versions/3.9.7/lib/python3.9/threading.py\u001b[0m in \u001b[0;36mwait\u001b[0;34m(self, timeout)\u001b[0m\n\u001b[1;32m    310\u001b[0m         \u001b[0;32mtry\u001b[0m\u001b[0;34m:\u001b[0m    \u001b[0;31m# restore state no matter what (e.g., KeyboardInterrupt)\u001b[0m\u001b[0;34m\u001b[0m\u001b[0;34m\u001b[0m\u001b[0m\n\u001b[1;32m    311\u001b[0m             \u001b[0;32mif\u001b[0m \u001b[0mtimeout\u001b[0m \u001b[0;32mis\u001b[0m \u001b[0;32mNone\u001b[0m\u001b[0;34m:\u001b[0m\u001b[0;34m\u001b[0m\u001b[0;34m\u001b[0m\u001b[0m\n\u001b[0;32m--> 312\u001b[0;31m                 \u001b[0mwaiter\u001b[0m\u001b[0;34m.\u001b[0m\u001b[0macquire\u001b[0m\u001b[0;34m(\u001b[0m\u001b[0;34m)\u001b[0m\u001b[0;34m\u001b[0m\u001b[0;34m\u001b[0m\u001b[0m\n\u001b[0m\u001b[1;32m    313\u001b[0m                 \u001b[0mgotit\u001b[0m \u001b[0;34m=\u001b[0m \u001b[0;32mTrue\u001b[0m\u001b[0;34m\u001b[0m\u001b[0;34m\u001b[0m\u001b[0m\n\u001b[1;32m    314\u001b[0m             \u001b[0;32melse\u001b[0m\u001b[0;34m:\u001b[0m\u001b[0;34m\u001b[0m\u001b[0;34m\u001b[0m\u001b[0m\n",
      "\u001b[0;31mKeyboardInterrupt\u001b[0m: "
     ]
    },
    {
     "name": "stderr",
     "output_type": "stream",
     "text": [
      "Process ForkPoolWorker-179:\n",
      "Process ForkPoolWorker-177:\n",
      "Process ForkPoolWorker-178:\n",
      "Process ForkPoolWorker-182:\n",
      "Process ForkPoolWorker-181:\n",
      "Process ForkPoolWorker-180:\n",
      "Process ForkPoolWorker-183:\n",
      "Process ForkPoolWorker-184:\n",
      "Traceback (most recent call last):\n",
      "Traceback (most recent call last):\n",
      "Traceback (most recent call last):\n",
      "Traceback (most recent call last):\n",
      "Traceback (most recent call last):\n",
      "Traceback (most recent call last):\n",
      "Traceback (most recent call last):\n",
      "  File \"/home/abdala9512/.pyenv/versions/3.9.7/lib/python3.9/multiprocessing/process.py\", line 315, in _bootstrap\n",
      "    self.run()\n",
      "  File \"/home/abdala9512/.pyenv/versions/3.9.7/lib/python3.9/multiprocessing/process.py\", line 315, in _bootstrap\n",
      "    self.run()\n",
      "  File \"/home/abdala9512/.pyenv/versions/3.9.7/lib/python3.9/multiprocessing/process.py\", line 315, in _bootstrap\n",
      "    self.run()\n",
      "Traceback (most recent call last):\n",
      "  File \"/home/abdala9512/.pyenv/versions/3.9.7/lib/python3.9/multiprocessing/process.py\", line 315, in _bootstrap\n",
      "    self.run()\n",
      "  File \"/home/abdala9512/.pyenv/versions/3.9.7/lib/python3.9/multiprocessing/process.py\", line 315, in _bootstrap\n",
      "    self.run()\n",
      "  File \"/home/abdala9512/.pyenv/versions/3.9.7/lib/python3.9/multiprocessing/process.py\", line 315, in _bootstrap\n",
      "    self.run()\n",
      "  File \"/home/abdala9512/.pyenv/versions/3.9.7/lib/python3.9/multiprocessing/process.py\", line 315, in _bootstrap\n",
      "    self.run()\n",
      "  File \"/home/abdala9512/.pyenv/versions/3.9.7/lib/python3.9/multiprocessing/process.py\", line 315, in _bootstrap\n",
      "    self.run()\n",
      "  File \"/home/abdala9512/.pyenv/versions/3.9.7/lib/python3.9/multiprocessing/process.py\", line 108, in run\n",
      "    self._target(*self._args, **self._kwargs)\n",
      "  File \"/home/abdala9512/.pyenv/versions/3.9.7/lib/python3.9/multiprocessing/process.py\", line 108, in run\n",
      "    self._target(*self._args, **self._kwargs)\n",
      "  File \"/home/abdala9512/.pyenv/versions/3.9.7/lib/python3.9/multiprocessing/process.py\", line 108, in run\n",
      "    self._target(*self._args, **self._kwargs)\n",
      "  File \"/home/abdala9512/.pyenv/versions/3.9.7/lib/python3.9/multiprocessing/process.py\", line 108, in run\n",
      "    self._target(*self._args, **self._kwargs)\n",
      "  File \"/home/abdala9512/.pyenv/versions/3.9.7/lib/python3.9/multiprocessing/process.py\", line 108, in run\n",
      "    self._target(*self._args, **self._kwargs)\n",
      "  File \"/home/abdala9512/.pyenv/versions/3.9.7/lib/python3.9/multiprocessing/process.py\", line 108, in run\n",
      "    self._target(*self._args, **self._kwargs)\n",
      "  File \"/home/abdala9512/.pyenv/versions/3.9.7/lib/python3.9/multiprocessing/process.py\", line 108, in run\n",
      "    self._target(*self._args, **self._kwargs)\n",
      "  File \"/home/abdala9512/.pyenv/versions/3.9.7/lib/python3.9/multiprocessing/process.py\", line 108, in run\n",
      "    self._target(*self._args, **self._kwargs)\n",
      "  File \"/home/abdala9512/.pyenv/versions/3.9.7/lib/python3.9/multiprocessing/pool.py\", line 125, in worker\n",
      "    result = (True, func(*args, **kwds))\n",
      "  File \"/home/abdala9512/.pyenv/versions/3.9.7/lib/python3.9/multiprocessing/pool.py\", line 125, in worker\n",
      "    result = (True, func(*args, **kwds))\n",
      "  File \"/home/abdala9512/.pyenv/versions/3.9.7/lib/python3.9/multiprocessing/pool.py\", line 114, in worker\n",
      "    task = get()\n",
      "  File \"/home/abdala9512/.pyenv/versions/3.9.7/lib/python3.9/multiprocessing/pool.py\", line 125, in worker\n",
      "    result = (True, func(*args, **kwds))\n",
      "  File \"/home/abdala9512/.pyenv/versions/3.9.7/lib/python3.9/multiprocessing/pool.py\", line 114, in worker\n",
      "    task = get()\n",
      "  File \"/home/abdala9512/.pyenv/versions/3.9.7/lib/python3.9/multiprocessing/pool.py\", line 114, in worker\n",
      "    task = get()\n",
      "  File \"/home/abdala9512/.pyenv/versions/3.9.7/lib/python3.9/multiprocessing/pool.py\", line 114, in worker\n",
      "    task = get()\n",
      "  File \"/home/abdala9512/.pyenv/versions/3.9.7/lib/python3.9/multiprocessing/pool.py\", line 114, in worker\n",
      "    task = get()\n",
      "  File \"/home/abdala9512/.pyenv/versions/3.9.7/lib/python3.9/multiprocessing/pool.py\", line 48, in mapstar\n",
      "    return list(map(*args))\n",
      "  File \"/home/abdala9512/.pyenv/versions/3.9.7/lib/python3.9/multiprocessing/queues.py\", line 365, in get\n",
      "    with self._rlock:\n",
      "  File \"/home/abdala9512/.pyenv/versions/3.9.7/lib/python3.9/multiprocessing/pool.py\", line 48, in mapstar\n",
      "    return list(map(*args))\n",
      "  File \"/home/abdala9512/.pyenv/versions/3.9.7/lib/python3.9/multiprocessing/queues.py\", line 365, in get\n",
      "    with self._rlock:\n",
      "  File \"/home/abdala9512/.pyenv/versions/3.9.7/lib/python3.9/multiprocessing/queues.py\", line 366, in get\n",
      "    res = self._reader.recv_bytes()\n",
      "  File \"/home/abdala9512/.pyenv/versions/3.9.7/lib/python3.9/multiprocessing/queues.py\", line 365, in get\n",
      "    with self._rlock:\n",
      "  File \"/home/abdala9512/.pyenv/versions/3.9.7/lib/python3.9/multiprocessing/pool.py\", line 48, in mapstar\n",
      "    return list(map(*args))\n",
      "  File \"/home/abdala9512/.pyenv/versions/3.9.7/lib/python3.9/multiprocessing/synchronize.py\", line 95, in __enter__\n",
      "    return self._semlock.__enter__()\n",
      "  File \"/home/abdala9512/.pyenv/versions/3.9.7/lib/python3.9/multiprocessing/synchronize.py\", line 95, in __enter__\n",
      "    return self._semlock.__enter__()\n",
      "  File \"/home/abdala9512/.pyenv/versions/3.9.7/lib/python3.9/multiprocessing/connection.py\", line 221, in recv_bytes\n",
      "    buf = self._recv_bytes(maxlength)\n",
      "  File \"/tmp/ipykernel_13570/2831840882.py\", line 139, in local_search\n",
      "    continue\n",
      "  File \"/tmp/ipykernel_13570/2831840882.py\", line 135, in local_search\n",
      "    subset_idx = np.random.choice(a = complement_sets)\n",
      "  File \"/home/abdala9512/.pyenv/versions/3.9.7/lib/python3.9/multiprocessing/synchronize.py\", line 95, in __enter__\n",
      "    return self._semlock.__enter__()\n",
      "  File \"/tmp/ipykernel_13570/2831840882.py\", line 135, in local_search\n",
      "    subset_idx = np.random.choice(a = complement_sets)\n",
      "KeyboardInterrupt\n",
      "KeyboardInterrupt\n",
      "  File \"/home/abdala9512/.pyenv/versions/3.9.7/lib/python3.9/multiprocessing/connection.py\", line 419, in _recv_bytes\n",
      "    buf = self._recv(4)\n",
      "KeyboardInterrupt\n",
      "  File \"mtrand.pyx\", line 962, in numpy.random.mtrand.RandomState.choice\n",
      "KeyboardInterrupt\n",
      "  File \"mtrand.pyx\", line 962, in numpy.random.mtrand.RandomState.choice\n",
      "  File \"mtrand.pyx\", line 748, in numpy.random.mtrand.RandomState.randint\n",
      "  File \"/home/abdala9512/.pyenv/versions/3.9.7/lib/python3.9/multiprocessing/connection.py\", line 384, in _recv\n",
      "    chunk = read(handle, remaining)\n",
      "  File \"mtrand.pyx\", line 748, in numpy.random.mtrand.RandomState.randint\n",
      "KeyboardInterrupt\n",
      "  File \"_bounded_integers.pyx\", line 1228, in numpy.random._bounded_integers._rand_int64\n",
      "  File \"_bounded_integers.pyx\", line 1228, in numpy.random._bounded_integers._rand_int64\n",
      "  File \"<__array_function__ internals>\", line 5, in prod\n",
      "  File \"<__array_function__ internals>\", line 5, in prod\n",
      "  File \"/home/abdala9512/.cache/pypoetry/virtualenvs/ant-colony-opt-rChFFR6y-py3.9/lib/python3.9/site-packages/numpy/core/fromnumeric.py\", line 3051, in prod\n",
      "    return _wrapreduction(a, np.multiply, 'prod', axis, dtype, out,\n",
      "  File \"/home/abdala9512/.cache/pypoetry/virtualenvs/ant-colony-opt-rChFFR6y-py3.9/lib/python3.9/site-packages/numpy/core/fromnumeric.py\", line 3051, in prod\n",
      "    return _wrapreduction(a, np.multiply, 'prod', axis, dtype, out,\n",
      "KeyboardInterrupt\n",
      "  File \"/home/abdala9512/.cache/pypoetry/virtualenvs/ant-colony-opt-rChFFR6y-py3.9/lib/python3.9/site-packages/numpy/core/fromnumeric.py\", line 86, in _wrapreduction\n",
      "    return ufunc.reduce(obj, axis, dtype, out, **passkwargs)\n",
      "KeyboardInterrupt\n",
      "  File \"/home/abdala9512/.pyenv/versions/3.9.7/lib/python3.9/multiprocessing/synchronize.py\", line 95, in __enter__\n",
      "    return self._semlock.__enter__()\n",
      "KeyboardInterrupt\n"
     ]
    }
   ],
   "source": [
    "ant_solutions = aco_optimizer.execute(iterations=3)"
   ]
  },
  {
   "cell_type": "code",
   "execution_count": 24,
   "id": "8869d948-c1bf-4a83-9c06-6e80338240c5",
   "metadata": {},
   "outputs": [
    {
     "data": {
      "text/plain": [
       "[2, 1]"
      ]
     },
     "execution_count": 24,
     "metadata": {},
     "output_type": "execute_result"
    }
   ],
   "source": [
    "random.sample([1,2,3], 2)"
   ]
  },
  {
   "cell_type": "markdown",
   "id": "9fffa697-4062-4773-b1aa-e3b3182f7078",
   "metadata": {},
   "source": [
    "# Results reporting and analytics"
   ]
  },
  {
   "cell_type": "code",
   "execution_count": null,
   "id": "b3c94f12-6b99-4bac-a4d2-476cda56e3c1",
   "metadata": {},
   "outputs": [],
   "source": [
    "from collections import Counter"
   ]
  },
  {
   "cell_type": "code",
   "execution_count": null,
   "id": "80da6938-b1dd-44ae-b7d5-58df8b01a993",
   "metadata": {},
   "outputs": [],
   "source": [
    "len(set_cover_data.sets)"
   ]
  },
  {
   "cell_type": "code",
   "execution_count": null,
   "id": "730aaff1-58c0-4242-b697-ade1fb8032f1",
   "metadata": {},
   "outputs": [],
   "source": [
    "b_set = set(tuple(x) for x in set_cover_data.sets)\n",
    "b = [ list(x) for x in b_set ]\n",
    "len(b)"
   ]
  },
  {
   "cell_type": "code",
   "execution_count": 13,
   "id": "dc7a4054-869c-4df3-8b26-166c49a5b7e9",
   "metadata": {},
   "outputs": [
    {
     "data": {
      "text/plain": [
       "<__main__.ACOptimizer at 0x7f68f5b64670>"
      ]
     },
     "execution_count": 13,
     "metadata": {},
     "output_type": "execute_result"
    }
   ],
   "source": [
    "aco_optimizer"
   ]
  },
  {
   "cell_type": "code",
   "execution_count": null,
   "id": "40a3f91c-7490-4fee-a55d-9e44b595209f",
   "metadata": {},
   "outputs": [],
   "source": [
    "test = [4,1,2,502]\n",
    "[item_final_scores[i] for i in test]"
   ]
  },
  {
   "cell_type": "code",
   "execution_count": null,
   "id": "21822d6c-ed76-427a-acd5-6646d9cf7fcb",
   "metadata": {},
   "outputs": [],
   "source": [
    "set_cover_instance = SetCovering(set_cover_data.sets, costs=set_cover_data.costs)\n",
    "min(set_cover_instance.set_scores)"
   ]
  },
  {
   "cell_type": "code",
   "execution_count": null,
   "id": "8551651a-cb44-4e7d-bd83-320d51c2613d",
   "metadata": {},
   "outputs": [],
   "source": [
    "ant_sol = set_cover_instance.cover()"
   ]
  },
  {
   "cell_type": "code",
   "execution_count": 4,
   "id": "60b2598c-8c70-4b1f-b1a9-04f27bae677b",
   "metadata": {},
   "outputs": [],
   "source": [
    "test_logger = BaseLogger()"
   ]
  },
  {
   "cell_type": "code",
   "execution_count": 6,
   "id": "3aa2a871-ced1-48c6-9026-ec63149cbb12",
   "metadata": {},
   "outputs": [
    {
     "data": {
      "text/plain": [
       "[<FileHandler /home/abdala9512/ant-colony-optimization-implementation/notebooks/app.log (NOTSET)>,\n",
       " <StreamHandler stderr (NOTSET)>]"
      ]
     },
     "execution_count": 6,
     "metadata": {},
     "output_type": "execute_result"
    }
   ],
   "source": [
    "test_logger.logger.handlers"
   ]
  },
  {
   "cell_type": "code",
   "execution_count": 5,
   "id": "977a3fd0-721e-4825-acb1-1b857b88649e",
   "metadata": {},
   "outputs": [
    {
     "data": {
      "text/plain": [
       "array([2, 3, 1, 0, 4])"
      ]
     },
     "execution_count": 5,
     "metadata": {},
     "output_type": "execute_result"
    }
   ],
   "source": [
    "np.argsort([10,8,2,5,67])"
   ]
  },
  {
   "cell_type": "code",
   "execution_count": 1,
   "id": "2d0f334d-7df5-490b-82b7-9b13260e9977",
   "metadata": {},
   "outputs": [],
   "source": [
    "import numpy  as np"
   ]
  },
  {
   "cell_type": "code",
   "execution_count": null,
   "id": "bf52a6d0-9b45-450f-aae5-d993c0b2f4cc",
   "metadata": {},
   "outputs": [],
   "source": []
  }
 ],
 "metadata": {
  "kernelspec": {
   "display_name": "Python 3 (ipykernel)",
   "language": "python",
   "name": "python3"
  },
  "language_info": {
   "codemirror_mode": {
    "name": "ipython",
    "version": 3
   },
   "file_extension": ".py",
   "mimetype": "text/x-python",
   "name": "python",
   "nbconvert_exporter": "python",
   "pygments_lexer": "ipython3",
   "version": "3.9.7"
  }
 },
 "nbformat": 4,
 "nbformat_minor": 5
}
