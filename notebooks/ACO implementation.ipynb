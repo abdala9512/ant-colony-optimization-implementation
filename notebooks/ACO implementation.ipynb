{
 "cells": [
  {
   "cell_type": "code",
   "execution_count": 127,
   "id": "4424322c-2ca2-475f-8942-4a59f8c41cc3",
   "metadata": {},
   "outputs": [],
   "source": [
    "import numpy as np\n",
    "import random\n",
    "from typing import Dict, List, Set\n",
    "import logging\n",
    "\n",
    "import pandas as pd\n",
    "import seaborn as sns"
   ]
  },
  {
   "cell_type": "markdown",
   "id": "df588760-38de-4e3f-be22-07c9bc98ea39",
   "metadata": {},
   "source": [
    "# Step for ACO + Set Cover Code"
   ]
  },
  {
   "cell_type": "code",
   "execution_count": 2,
   "id": "9fec4c0c-0e77-4c1f-b367-8fb8f3c7228a",
   "metadata": {},
   "outputs": [],
   "source": [
    "\"\"\"\"Data process\"\"\"\n",
    "\n",
    "class DataReader:\n",
    "\n",
    "\n",
    "    def __init__(self, file):\n",
    "        \"\"\"\n",
    "        DataReader Initialization\n",
    "        \n",
    "        Args:\n",
    "            file (str): filepath \n",
    "        \"\"\"\n",
    "        self.file = file\n",
    "        self.data = self._readTXT()\n",
    "        self.universe, self.sets = tuple( int(i) for i in self.data[0].split() ) \n",
    "        self.sets, self.costs  = self._processTXT(self.data)\n",
    "\n",
    "    def _readTXT(self):\n",
    "        \"\"\"\n",
    "        Reads filepath.\n",
    "        \"\"\"\n",
    "        with open(self.file) as f:\n",
    "            data = f.readlines()\n",
    "        return data\n",
    "\n",
    "    def _processTXT(self, data):\n",
    "        \"\"\"\n",
    "        Generate sets and costs\n",
    "        \n",
    "        Args:\n",
    "            data (List): List of lines of data read\n",
    "        \n",
    "        \"\"\"\n",
    "        \n",
    "        sets = [ [ int(j) for j in i.split()[1: ] ] for i in data[1:] ]\n",
    "        costs = [ int(i.split()[0])  for i in data[1:] ]\n",
    "        return  sets, costs\n"
   ]
  },
  {
   "cell_type": "markdown",
   "id": "0450f121-08fc-4866-8685-20283761b9db",
   "metadata": {},
   "source": [
    "# Set Covering class"
   ]
  },
  {
   "cell_type": "code",
   "execution_count": 3,
   "id": "4adfca5d-6c93-4637-ab3e-5420e3f978ee",
   "metadata": {},
   "outputs": [],
   "source": [
    "import logging\n",
    "\n",
    "\n",
    "class BaseLogger:\n",
    "    \n",
    "    \n",
    "    def __init__(self, logger_name: str = \"Model Logger\") -> None:\n",
    "        \n",
    "        self.logger_name = logger_name\n",
    "        self.logger      =  logging.getLogger(self.logger_name)\n",
    "        self.__logger_settings()\n",
    "        # TODO: Check if the only handler needed is the StreamHandler\n",
    "        if len(self.logger.handlers) > 2:\n",
    "            for handler in self.logger.handlers: self.logger.removeHandler(handler)\n",
    "        \n",
    "        \n",
    "    def __logger_settings(self) -> None:\n",
    "        \n",
    "        self.logger.setLevel(logging.INFO)\n",
    "        logFileHandler = logging.FileHandler(\"./app.log\",mode='w')\n",
    "        consoleHandler  = logging.StreamHandler()\n",
    "        logFormatter = logging.Formatter('%(name)s - %(levelname)s - [%(asctime)s] - %(message)s')\n",
    "        \n",
    "        consoleHandler.setFormatter(logFormatter)\n",
    "        logFileHandler.setFormatter(logFormatter)\n",
    "        \n",
    "        self.logger.addHandler(logFileHandler)\n",
    "        self.logger.addHandler(consoleHandler)\n"
   ]
  },
  {
   "cell_type": "code",
   "execution_count": null,
   "id": "b5ce9fc1-89bb-4ed0-b996-0d8b1bbbe0de",
   "metadata": {},
   "outputs": [],
   "source": [
    "# 1. Create an Empty binary vector  with the election of subsets\n",
    "# 2. "
   ]
  },
  {
   "cell_type": "code",
   "execution_count": 121,
   "id": "cbbde4f2-999e-44cd-95a5-937a55740961",
   "metadata": {},
   "outputs": [],
   "source": [
    "from collections import Counter\n",
    "\n",
    "class SetCovering(BaseLogger):\n",
    "    \n",
    "    \n",
    "    def __init__(self, subsets: List, costs: List) -> None:\n",
    "        \"\"\" Set convering initialization\n",
    "        \"\"\"\n",
    "        super().__init__()\n",
    "        self.subsets = subsets\n",
    "        self.costs   = costs\n",
    "        self.universe = self.__identify_unique_items()\n",
    "        self.total_set_elements = len(self.universe)\n",
    "        self.total_subsets      = len(subsets)\n",
    "        self.item_scores        = self.__calculate_item_scores()\n",
    "        self.set_scores         = self.__calculate_set_scores()\n",
    "        self.set_probabilities  = self.__calculate_set_probabilities()\n",
    "        self.max_len_set        = max([len(subset) for subset in self.subsets])\n",
    "    \n",
    "    def __identify_unique_items(self) -> Set:\n",
    "        \"\"\"Find all unique elements of data structure\n",
    "        \n",
    "        \"\"\"\n",
    "        return { item for instance in self.subsets for item in instance }\n",
    "    \n",
    "    def __calculate_item_scores(self):\n",
    "        item_counts  = dict(\n",
    "            Counter([item for sublist in self.subsets for item in sublist])\n",
    "        )\n",
    "        \n",
    "        item_values = {}\n",
    "        for key, value in item_counts.items():\n",
    "            item_values[key] = 1 / (value / self.total_subsets)\n",
    "        \n",
    "        SCORE_MAX = max(item_values.values())\n",
    "        SCORE_MIN = min(item_values.values())\n",
    "        \n",
    "        item_scores = {}\n",
    "        for key, value in item_values.items():\n",
    "            item_scores[key] = SetCovering.max_min_normalizer(value, max_val = SCORE_MAX, min_val = SCORE_MIN)\n",
    "            \n",
    "        return item_scores\n",
    "\n",
    "    def __calculate_set_probabilities(self):\n",
    "        \"\"\"Return the average score for each subset\"\"\"\n",
    "        scores = [np.mean([self.item_scores[i] for i in subset])   for subset in self.subsets]\n",
    "        \n",
    "        return  self.__calculate_probabilities(scores)\n",
    "    \n",
    "    \n",
    "    def __calculate_probabilities(self, vals):\n",
    "        total_sum     = sum(vals)\n",
    "        return [ val / total_sum  for val in vals ]\n",
    "    \n",
    "    def __calculate_set_scores(self):\n",
    "        \n",
    "        total_subsets = []\n",
    "        for subset in self.subsets:\n",
    "            subset_scores = [self.item_scores[i] for i in subset]\n",
    "            subset_overall_score = np.average(subset_scores, weights= [item / sum(subset_scores) for item in subset_scores])\n",
    "            total_subsets.append(subset_overall_score)\n",
    "        return total_subsets\n",
    "        \n",
    "    \n",
    "    def cover(self, probs = None):\n",
    "        \"\"\" Create a set covering solution\n",
    "        \"\"\"\n",
    "        \n",
    "        if not probs:\n",
    "            prob_dist = self.set_probabilities\n",
    "        \n",
    "        all_available_subsets = [*range(self.total_subsets)]\n",
    "        \n",
    "    \n",
    "        covered = set()\n",
    "        selected_subsets = []\n",
    "        cost = 0\n",
    "        while covered != self.universe:\n",
    "\n",
    "            subset_idx = self.__select_set(set_list = all_available_subsets)\n",
    "            subset     = set( self.subsets[subset_idx] )\n",
    "            \n",
    "            selected_subsets.append(subset_idx)\n",
    "            covered |= subset\n",
    "            \n",
    "            cost += self.costs[subset_idx]\n",
    "            all_available_subsets.remove(subset_idx)\n",
    "            \n",
    "        \n",
    "        self.logger.info(f\">>> Total covering cost: {cost}\")\n",
    "        self.logger.info(f\">>> Total subsets selected: {len(selected_subsets)}\")\n",
    "        \n",
    "        return selected_subsets, cost\n",
    "\n",
    "        \n",
    "    def __select_set(self, set_list: List, probs = None):\n",
    "        \"\"\"Select a set index, regarding if the set already have appended to a subset_list\"\"\"\n",
    "        subset_idx = random.choices(set_list)\n",
    "        return set_list[subset_idx]\n",
    "    \n",
    "    @staticmethod\n",
    "    def max_min_normalizer(num, max_val, min_val):\n",
    "        return (num - min_val) / (max_val - min_val)\n",
    "\n",
    "            "
   ]
  },
  {
   "cell_type": "code",
   "execution_count": 141,
   "id": "f817954c-6420-422d-a4cf-851d1d1c38d0",
   "metadata": {},
   "outputs": [
    {
     "data": {
      "text/html": [
       "<div>\n",
       "<style scoped>\n",
       "    .dataframe tbody tr th:only-of-type {\n",
       "        vertical-align: middle;\n",
       "    }\n",
       "\n",
       "    .dataframe tbody tr th {\n",
       "        vertical-align: top;\n",
       "    }\n",
       "\n",
       "    .dataframe thead th {\n",
       "        text-align: right;\n",
       "    }\n",
       "</style>\n",
       "<table border=\"1\" class=\"dataframe\">\n",
       "  <thead>\n",
       "    <tr style=\"text-align: right;\">\n",
       "      <th></th>\n",
       "      <th>subsets</th>\n",
       "      <th>scores</th>\n",
       "      <th>cost</th>\n",
       "    </tr>\n",
       "  </thead>\n",
       "  <tbody>\n",
       "    <tr>\n",
       "      <th>1030</th>\n",
       "      <td>[8, 14, 15, 5, 42, 96, 338, 76, 8]</td>\n",
       "      <td>0.002153</td>\n",
       "      <td>2</td>\n",
       "    </tr>\n",
       "    <tr>\n",
       "      <th>1058</th>\n",
       "      <td>[8, 14, 15, 5, 42, 201, 338, 76, 8]</td>\n",
       "      <td>0.002179</td>\n",
       "      <td>2</td>\n",
       "    </tr>\n",
       "    <tr>\n",
       "      <th>1025</th>\n",
       "      <td>[8, 14, 15, 5, 42, 96, 4, 35, 36]</td>\n",
       "      <td>0.002216</td>\n",
       "      <td>2</td>\n",
       "    </tr>\n",
       "    <tr>\n",
       "      <th>1053</th>\n",
       "      <td>[8, 14, 15, 5, 42, 201, 4, 35, 36]</td>\n",
       "      <td>0.002239</td>\n",
       "      <td>2</td>\n",
       "    </tr>\n",
       "    <tr>\n",
       "      <th>1169</th>\n",
       "      <td>[8, 14, 15, 5, 354, 96, 338, 76, 8]</td>\n",
       "      <td>0.002240</td>\n",
       "      <td>2</td>\n",
       "    </tr>\n",
       "    <tr>\n",
       "      <th>...</th>\n",
       "      <td>...</td>\n",
       "      <td>...</td>\n",
       "      <td>...</td>\n",
       "    </tr>\n",
       "    <tr>\n",
       "      <th>1824</th>\n",
       "      <td>[6, 14, 15, 74, 417, 418, 452]</td>\n",
       "      <td>0.986759</td>\n",
       "      <td>1</td>\n",
       "    </tr>\n",
       "    <tr>\n",
       "      <th>321</th>\n",
       "      <td>[5, 4, 64, 251, 241, 441]</td>\n",
       "      <td>0.991461</td>\n",
       "      <td>2</td>\n",
       "    </tr>\n",
       "    <tr>\n",
       "      <th>389</th>\n",
       "      <td>[2, 7, 487]</td>\n",
       "      <td>0.993321</td>\n",
       "      <td>2</td>\n",
       "    </tr>\n",
       "    <tr>\n",
       "      <th>575</th>\n",
       "      <td>[2, 7, 287]</td>\n",
       "      <td>0.993321</td>\n",
       "      <td>1</td>\n",
       "    </tr>\n",
       "    <tr>\n",
       "      <th>924</th>\n",
       "      <td>[2, 13, 84]</td>\n",
       "      <td>0.996786</td>\n",
       "      <td>1</td>\n",
       "    </tr>\n",
       "  </tbody>\n",
       "</table>\n",
       "<p>3000 rows × 3 columns</p>\n",
       "</div>"
      ],
      "text/plain": [
       "                                  subsets    scores  cost\n",
       "1030   [8, 14, 15, 5, 42, 96, 338, 76, 8]  0.002153     2\n",
       "1058  [8, 14, 15, 5, 42, 201, 338, 76, 8]  0.002179     2\n",
       "1025    [8, 14, 15, 5, 42, 96, 4, 35, 36]  0.002216     2\n",
       "1053   [8, 14, 15, 5, 42, 201, 4, 35, 36]  0.002239     2\n",
       "1169  [8, 14, 15, 5, 354, 96, 338, 76, 8]  0.002240     2\n",
       "...                                   ...       ...   ...\n",
       "1824       [6, 14, 15, 74, 417, 418, 452]  0.986759     1\n",
       "321             [5, 4, 64, 251, 241, 441]  0.991461     2\n",
       "389                           [2, 7, 487]  0.993321     2\n",
       "575                           [2, 7, 287]  0.993321     1\n",
       "924                           [2, 13, 84]  0.996786     1\n",
       "\n",
       "[3000 rows x 3 columns]"
      ]
     },
     "execution_count": 141,
     "metadata": {},
     "output_type": "execute_result"
    }
   ],
   "source": [
    "pd.DataFrame({'subsets': [str(subset) for subset in set_cover_instance.subsets],\n",
    "              'scores': set_cover_instance.set_scores, \n",
    "              'cost': set_cover_instance.costs}).sort_values(by = 'scores', ascending = True)"
   ]
  },
  {
   "cell_type": "code",
   "execution_count": 125,
   "id": "0edbb99d-1be9-4e64-9153-7aa2f28d871e",
   "metadata": {},
   "outputs": [],
   "source": [
    "set_cover_instance = SetCovering(set_cover_data.sets, costs=set_cover_data.costs)"
   ]
  },
  {
   "cell_type": "markdown",
   "id": "d593364b-5967-42e0-bdc2-a236fe0cac15",
   "metadata": {},
   "source": [
    "# ACO"
   ]
  },
  {
   "cell_type": "code",
   "execution_count": 54,
   "id": "9d47fbcf-0a15-4139-824e-9de49bf20a69",
   "metadata": {},
   "outputs": [
    {
     "name": "stderr",
     "output_type": "stream",
     "text": [
      "<magic-timeit>:1: VisibleDeprecationWarning: Creating an ndarray from ragged nested sequences (which is a list-or-tuple of lists-or-tuples-or ndarrays with different lengths or shapes) is deprecated. If you meant to do this, you must specify 'dtype=object' when creating the ndarray.\n"
     ]
    },
    {
     "name": "stdout",
     "output_type": "stream",
     "text": [
      "302 ms ± 3.29 ms per loop (mean ± std. dev. of 7 runs, 1 loop each)\n"
     ]
    }
   ],
   "source": [
    "%%timeit\n",
    "np.random.choice(a = aco_optimizer.set_cover.subsets , p =  [i / sum(aco_optimizer.set_initial_pheromones) for i in aco_optimizer.set_initial_pheromones])"
   ]
  },
  {
   "cell_type": "code",
   "execution_count": 95,
   "id": "03e73600-ff3b-46b8-8199-2482bfa5cf47",
   "metadata": {},
   "outputs": [
    {
     "data": {
      "text/plain": [
       "[6, 17, 74, 221, 239, 240, 250]"
      ]
     },
     "execution_count": 95,
     "metadata": {},
     "output_type": "execute_result"
    }
   ],
   "source": [
    "random.choices( aco_optimizer.set_cover.subsets , weights =  aco_optimizer.set_initial_pheromones)"
   ]
  },
  {
   "cell_type": "code",
   "execution_count": 237,
   "id": "c14708dd-b06b-42c4-93b5-73be076fcaac",
   "metadata": {},
   "outputs": [],
   "source": [
    "\"\"\"Ant System Metaherustic\"\"\"\n",
    "\n",
    "import multiprocessing\n",
    "\n",
    "\n",
    "class ACOptimizer(BaseLogger):\n",
    "    \n",
    "    def __init__(self, \n",
    "                 set_cover: SetCovering,\n",
    "                 ants: int = 10,\n",
    "                 evaporation_rate: float = 0.0,\n",
    "                 alpha: float = 1.0,\n",
    "                 beta:float = 1.0) -> None:\n",
    "        \n",
    "        \"\"\"\n",
    "        ACO algorithm initialization\n",
    "        \n",
    "        Args:\n",
    "            saet_cover (SetCovering): set cover class with the subsets and costs\n",
    "            ants (int): Number of ants in the instance\n",
    "            evaporation_date (float):  pheromone's evaporation speed for each iteration\n",
    "            \n",
    "        \"\"\"\n",
    "        super().__init__()\n",
    "        self.set_cover = set_cover\n",
    "        self.ants = ants\n",
    "        self.evaporation_rate = evaporation_rate\n",
    "        self.heuristic_alpha = alpha\n",
    "        self.heuristic_beta = beta\n",
    "        self.set_quality = self.__calc_pheromone()\n",
    "        self.set_pheromones = [ 1 / self.set_cover.total_subsets for _ in range(self.set_cover.total_subsets)]\n",
    "        self.solutions = None\n",
    "        \n",
    "    def __str__(self):\n",
    "        return \"ACO(ants = {ants}, evaporation_rate = {evaporation_rate})\".format(ants = self.ants, evaporation_rate = self.evaporation_rate)\n",
    "    \n",
    "    \n",
    "    def __calc_pheromone(self):\n",
    "        \n",
    "        \"\"\"Calculates pheromone level by each set based on the length of the set\n",
    "        \n",
    "        \"\"\"\n",
    "        \n",
    "        pheromones = []\n",
    "        for i, subset in enumerate(self.set_cover.subsets):\n",
    "                \n",
    "            length_score =  len(subset) / self.set_cover.max_len_set\n",
    "            rarity_score =  self.set_cover.set_probabilities[i]\n",
    "            cost_score   =  self.set_cover.costs[i]\n",
    "                \n",
    "            metaheuristic_information =  ( length_score / cost_score) ** self.heuristic_alpha  * rarity_score ** self.heuristic_beta\n",
    "            pheromones.append(metaheuristic_information)\n",
    "            \n",
    "        return pheromones\n",
    "            \n",
    "    \n",
    "    def __initialize(self):\n",
    "        \n",
    "        pool = ACOptimizer.make_pool()\n",
    "        result = pool.map(self.set_cover.cover, [ ant for ant in range(self.ants) ])\n",
    "        pool.close()\n",
    "        return result\n",
    "    \n",
    "    def __update_probabilities(self, solutions) -> None:\n",
    "        \"\"\"Update probabilities based on past solutions and evaporation rate\"\"\"\n",
    "        \n",
    "        self.set_pheromones = [pheromone * (1 - self.evaporation_rate)  for pheromone in self.set_pheromones]\n",
    "        \n",
    "        for solution in solutions:\n",
    "            for i, subset in enumerate(solution[0]):\n",
    "                self.set_pheromones[i] += self.set_quality[i]\n",
    "        \n",
    "        \n",
    "    def build_ant_solution(self, ant):\n",
    "        \n",
    "        #pool = ACOptimizer.make_pool()\n",
    "        solutions = self.__set_cover_ant_solution()\n",
    "        #pool.close()\n",
    "        return solutions\n",
    "    \n",
    "    def __set_cover_ant_solution(self):\n",
    "        \n",
    "        #probabilities = self.__weight_pheromones(self.set_pheromones)\n",
    "        all_sets = [*range(self.set_cover.total_subsets)]\n",
    "        \n",
    "        covered = set()\n",
    "        selected_subsets = []\n",
    "        cost = 0\n",
    "        while covered != self.set_cover.universe:\n",
    "\n",
    "            subset_idx = random.choices(all_sets , weights = self.set_pheromones)[0]\n",
    "            subset     = set( self.set_cover.subsets[subset_idx] )\n",
    "\n",
    "            selected_subsets.append(subset_idx)\n",
    "            covered |= subset\n",
    "\n",
    "            cost += self.set_cover.costs[subset_idx]\n",
    "    \n",
    "        self.logger.info(f\">>> Total covering cost: {cost}\")\n",
    "        self.logger.info(f\">>> Total subsets selected: {len(selected_subsets)}\")\n",
    "        \n",
    "        return list( set( selected_subsets)), cost\n",
    "    \n",
    "    def __weight_pheromones(self, pheromones):\n",
    "        total_sum     = sum(pheromones)\n",
    "        return [ val / total_sum  for val in pheromones ]\n",
    "    \n",
    "    def __select_top_n_sets(self, arr, n=100):\n",
    "        return np.argsort(arr)[-n:]\n",
    "    \n",
    "    \n",
    "    def local_search(self, solution, dropout = 0.015):\n",
    "        \n",
    "        best_sets = self.__select_top_n_sets(self.set_pheromones)\n",
    "        sample_size = int( (1 - dropout) * len(solution[0]) )\n",
    "        \n",
    "        dropout_solution = random.sample(solution[0], sample_size)\n",
    "        for bst in best_sets:\n",
    "            if bst not in dropout_solution:\n",
    "                dropout_solution.append(bst)\n",
    "                \n",
    "        covered = set(dropout_solution)\n",
    "        cost = sum([ self.set_cover.costs[subset_idx] for subset_idx in dropout_solution])\n",
    "        complement_sets = [subset for subset in range(self.set_cover.total_subsets) if subset not in dropout_solution]\n",
    "        while covered != self.set_cover.universe:\n",
    "            \n",
    "            subset_idx = random.choices(complement_sets)[0]\n",
    "            subset     = set( self.set_cover.subsets[subset_idx] )\n",
    "            \n",
    "            if subset_idx in dropout_solution:\n",
    "                continue\n",
    "                \n",
    "            dropout_solution.append(subset_idx)\n",
    "            covered |= subset\n",
    "\n",
    "            cost += self.set_cover.costs[subset_idx]\n",
    "        \n",
    "        self.logger.info(f\">>> ------------------------------------------------------------------------------\")\n",
    "        self.logger.info(f\">>> LOCAL SEARCH: Total covering cost: {cost}\")\n",
    "        self.logger.info(f\">>> LOCAL SEARCH: Total subsets selected: {len(selected_subsets)}\")\n",
    "        \n",
    "        return list(set(dropout_solution)), cost\n",
    "        \n",
    "        \n",
    "    @staticmethod\n",
    "    def make_pool():\n",
    "        \n",
    "        AVAILABLE_CORES = multiprocessing.cpu_count()\n",
    "        pool = multiprocessing.Pool(AVAILABLE_CORES)\n",
    "        \n",
    "        return pool\n",
    "        \n",
    "    def __elistist_strategy(self, solutions):\n",
    "        bst_10pct = np.quantile([solution[1] for solution in solutions], q = .10)\n",
    "        best_solutions = [solution for solution in solutions if solution[1] <= bst_10pct]\n",
    "        return best_solutions\n",
    "    \n",
    "    def execute(self, iterations=2, early_stopping_count=20):\n",
    "        \n",
    "        \n",
    "        # 1. Inicialization\n",
    "        # Calculate pheromones, \n",
    "        #f_solutions = self.__initialize()\n",
    "        #self.__update_probabilities(f_solutions)\n",
    "        iter_solutions = []\n",
    "        for _ in range(iterations):\n",
    "            print(f\" iteratcio {_}: \")\n",
    "            pool = ACOptimizer.make_pool()\n",
    "            solutions = pool.map(self.build_ant_solution, [1 for _ in range(self.ants)])\n",
    "            \n",
    "            # local search\n",
    "            #ls_solutions = pool.map(self.local_search, solutions)\n",
    "            #iteration_solutions = [ls_solution if ls_solution[1] < solution else solution for ls_solution, solution in zip(ls_solutions, solutions)]\n",
    "            pool.close() \n",
    "            # Global update pheromones\n",
    "            bst_solutions = self.__elistist_strategy(solutions)\n",
    "            self.__update_probabilities(bst_solutions)\n",
    "            iter_solutions.append(bst_solutions)\n",
    "        self.solutions = iter_solutions\n",
    "        pool.close() \n",
    "        return iter_solutions"
   ]
  },
  {
   "cell_type": "code",
   "execution_count": 261,
   "id": "e1e655ed-eda5-48d4-8403-a94935eb40b5",
   "metadata": {},
   "outputs": [],
   "source": [
    "import pandas as pd\n",
    "import matplotlib.pyplot as plt\n",
    "import seaborn as sns\n",
    "\n",
    "class ACOAnalytics:\n",
    "\n",
    "    def __init__(self, aco_instance: ACOptimizer) -> None:\n",
    "        self.aco_instance = aco_instance\n",
    "        self.solutions = aco_instance.solutions\n",
    "        self.total_iterations = len(aco_instance.solutions)\n",
    "        self.iter_df = self.__prepare_data()\n",
    "        \n",
    "    def generate_report(self, filename = \"iteration_history.csv\") -> None:\n",
    "        self.iter_df.to_csv(filename, index=False)\n",
    "        \n",
    "    def __best_solution(self):\n",
    "        pass\n",
    "    \n",
    "    def pheromones_distribution(self):\n",
    "        sns.histplot(self.aco_instance.set_pheromones)\n",
    "        \n",
    "    def aco_algorithm_visuals(self):\n",
    "        sns.lineplot(x = 'iteration', y = 'avg_cost', data = self.iter_df)\n",
    "    \n",
    "    def __prepare_data(self):\n",
    "        costs =  [[ant_solution[1] for ant_solution in iter_solution ] for iter_solution in self.solutions]\n",
    "        iterations = [(i+1, np.mean(cost)) for i, cost in enumerate(costs)]\n",
    "        df = pd.DataFrame(iterations, columns = ['iteration', 'avg_cost'])\n",
    "        return df"
   ]
  },
  {
   "cell_type": "code",
   "execution_count": 262,
   "id": "7147870c-277b-401f-b3c2-7dba843a265a",
   "metadata": {},
   "outputs": [
    {
     "data": {
      "image/png": "[encoded data removed]",
      "text/plain": [
       "<Figure size 432x288 with 1 Axes>"
      ]
     },
     "metadata": {
      "needs_background": "light"
     },
     "output_type": "display_data"
    }
   ],
   "source": [
    "ACOAnalytics(aco_optimizer).aco_algorithm_visuals()"
   ]
  },
  {
   "cell_type": "code",
   "execution_count": 263,
   "id": "bb87641f-45a2-44cf-8fa0-a1329ad815ee",
   "metadata": {},
   "outputs": [
    {
     "data": {
      "image/png": "[encoded data removed]",
      "text/plain": [
       "<Figure size 432x288 with 1 Axes>"
      ]
     },
     "metadata": {
      "needs_background": "light"
     },
     "output_type": "display_data"
    }
   ],
   "source": [
    "ACOAnalytics(aco_optimizer).pheromones_distribution()"
   ]
  },
  {
   "cell_type": "markdown",
   "id": "1daf3acb-b41e-4d09-97e0-fb1acfd6c6c9",
   "metadata": {},
   "source": [
    "## Set Covering Pipeline"
   ]
  },
  {
   "cell_type": "code",
   "execution_count": null,
   "id": "5e03357c-0247-4c51-86cf-cea383b80933",
   "metadata": {},
   "outputs": [],
   "source": [
    "[\"raro\", \"comun\"] = 1 , 0"
   ]
  },
  {
   "cell_type": "code",
   "execution_count": 238,
   "id": "070ff423-6664-4210-9b75-591141a5c82f",
   "metadata": {
    "scrolled": true,
    "tags": []
   },
   "outputs": [],
   "source": [
    "set_cover_data = DataReader(file = \"../aco_sc_data/sample_500_aco.txt\")\n",
    "set_cover_instance = SetCovering(set_cover_data.sets, costs=set_cover_data.costs)\n",
    "aco_optimizer = ACOptimizer(set_cover=set_cover_instance, ants = 2)"
   ]
  },
  {
   "cell_type": "code",
   "execution_count": 236,
   "id": "4d28f75a-66d3-4a6e-85b0-28dfa0a7d415",
   "metadata": {},
   "outputs": [
    {
     "data": {
      "text/plain": [
       "<AxesSubplot:ylabel='Count'>"
      ]
     },
     "execution_count": 236,
     "metadata": {},
     "output_type": "execute_result"
    },
    {
     "data": {
      "image/png": "[encoded data removed]",
      "text/plain": [
       "<Figure size 432x288 with 1 Axes>"
      ]
     },
     "metadata": {
      "needs_background": "light"
     },
     "output_type": "display_data"
    }
   ],
   "source": [
    "sns.histplot(aco_optimizer.set_pheromones)"
   ]
  },
  {
   "cell_type": "code",
   "execution_count": 239,
   "id": "a04bbb06-157f-4979-afb6-4bb5678cf6e5",
   "metadata": {},
   "outputs": [
    {
     "name": "stdout",
     "output_type": "stream",
     "text": [
      " iteratcio 0: \n"
     ]
    },
    {
     "name": "stderr",
     "output_type": "stream",
     "text": [
      "Model Logger - INFO - [2021-11-30 00:35:37,455] - >>> Total covering cost: 18977\n",
      "Model Logger - INFO - [2021-11-30 00:35:37,455] - >>> Total covering cost: 18977\n",
      "Model Logger - INFO - [2021-11-30 00:35:37,466] - >>> Total subsets selected: 9647\n",
      "Model Logger - INFO - [2021-11-30 00:35:37,466] - >>> Total subsets selected: 9647\n",
      "Model Logger - INFO - [2021-11-30 00:35:38,165] - >>> Total covering cost: 37726\n",
      "Model Logger - INFO - [2021-11-30 00:35:38,165] - >>> Total covering cost: 37726\n",
      "Model Logger - INFO - [2021-11-30 00:35:38,170] - >>> Total subsets selected: 19206\n",
      "Model Logger - INFO - [2021-11-30 00:35:38,170] - >>> Total subsets selected: 19206\n"
     ]
    },
    {
     "name": "stdout",
     "output_type": "stream",
     "text": [
      " iteratcio 1: \n"
     ]
    },
    {
     "name": "stderr",
     "output_type": "stream",
     "text": [
      "Model Logger - INFO - [2021-11-30 00:35:39,311] - >>> Total covering cost: 8654\n",
      "Model Logger - INFO - [2021-11-30 00:35:39,311] - >>> Total covering cost: 8654\n",
      "Model Logger - INFO - [2021-11-30 00:35:39,317] - >>> Total subsets selected: 4549\n",
      "Model Logger - INFO - [2021-11-30 00:35:39,317] - >>> Total subsets selected: 4549\n",
      "Model Logger - INFO - [2021-11-30 00:35:39,319] - >>> Total covering cost: 9072\n",
      "Model Logger - INFO - [2021-11-30 00:35:39,319] - >>> Total covering cost: 9072\n",
      "Model Logger - INFO - [2021-11-30 00:35:39,325] - >>> Total subsets selected: 4785\n",
      "Model Logger - INFO - [2021-11-30 00:35:39,325] - >>> Total subsets selected: 4785\n"
     ]
    }
   ],
   "source": [
    "ant_solutions = aco_optimizer.execute(iterations=2)\n",
    "#sns.histplot(aco_optimizer.set_pheromones)"
   ]
  },
  {
   "cell_type": "code",
   "execution_count": 243,
   "id": "fd48615c-f602-4d4d-9fae-5f9f0eaa00d3",
   "metadata": {},
   "outputs": [
    {
     "data": {
      "text/plain": [
       "18977"
      ]
     },
     "execution_count": 243,
     "metadata": {},
     "output_type": "execute_result"
    }
   ],
   "source": [
    "ant_solutions[0][0][1]"
   ]
  },
  {
   "cell_type": "code",
   "execution_count": 24,
   "id": "8869d948-c1bf-4a83-9c06-6e80338240c5",
   "metadata": {},
   "outputs": [
    {
     "data": {
      "text/plain": [
       "[2, 1]"
      ]
     },
     "execution_count": 24,
     "metadata": {},
     "output_type": "execute_result"
    }
   ],
   "source": [
    "random.sample([1,2,3], 2)"
   ]
  },
  {
   "cell_type": "markdown",
   "id": "9fffa697-4062-4773-b1aa-e3b3182f7078",
   "metadata": {},
   "source": [
    "# Results reporting and analytics"
   ]
  },
  {
   "cell_type": "code",
   "execution_count": null,
   "id": "b3c94f12-6b99-4bac-a4d2-476cda56e3c1",
   "metadata": {},
   "outputs": [],
   "source": [
    "from collections import Counter"
   ]
  },
  {
   "cell_type": "code",
   "execution_count": null,
   "id": "80da6938-b1dd-44ae-b7d5-58df8b01a993",
   "metadata": {},
   "outputs": [],
   "source": [
    "len(set_cover_data.sets)"
   ]
  },
  {
   "cell_type": "code",
   "execution_count": null,
   "id": "730aaff1-58c0-4242-b697-ade1fb8032f1",
   "metadata": {},
   "outputs": [],
   "source": [
    "b_set = set(tuple(x) for x in set_cover_data.sets)\n",
    "b = [ list(x) for x in b_set ]\n",
    "len(b)"
   ]
  },
  {
   "cell_type": "code",
   "execution_count": 13,
   "id": "dc7a4054-869c-4df3-8b26-166c49a5b7e9",
   "metadata": {},
   "outputs": [
    {
     "data": {
      "text/plain": [
       "<__main__.ACOptimizer at 0x7f68f5b64670>"
      ]
     },
     "execution_count": 13,
     "metadata": {},
     "output_type": "execute_result"
    }
   ],
   "source": [
    "aco_optimizer"
   ]
  },
  {
   "cell_type": "code",
   "execution_count": null,
   "id": "40a3f91c-7490-4fee-a55d-9e44b595209f",
   "metadata": {},
   "outputs": [],
   "source": [
    "test = [4,1,2,502]\n",
    "[item_final_scores[i] for i in test]"
   ]
  },
  {
   "cell_type": "code",
   "execution_count": null,
   "id": "21822d6c-ed76-427a-acd5-6646d9cf7fcb",
   "metadata": {},
   "outputs": [],
   "source": [
    "set_cover_instance = SetCovering(set_cover_data.sets, costs=set_cover_data.costs)\n",
    "min(set_cover_instance.set_scores)"
   ]
  },
  {
   "cell_type": "code",
   "execution_count": null,
   "id": "8551651a-cb44-4e7d-bd83-320d51c2613d",
   "metadata": {},
   "outputs": [],
   "source": [
    "ant_sol = set_cover_instance.cover()"
   ]
  },
  {
   "cell_type": "code",
   "execution_count": 4,
   "id": "60b2598c-8c70-4b1f-b1a9-04f27bae677b",
   "metadata": {},
   "outputs": [],
   "source": [
    "test_logger = BaseLogger()"
   ]
  },
  {
   "cell_type": "code",
   "execution_count": 6,
   "id": "3aa2a871-ced1-48c6-9026-ec63149cbb12",
   "metadata": {},
   "outputs": [
    {
     "data": {
      "text/plain": [
       "[<FileHandler /home/abdala9512/ant-colony-optimization-implementation/notebooks/app.log (NOTSET)>,\n",
       " <StreamHandler stderr (NOTSET)>]"
      ]
     },
     "execution_count": 6,
     "metadata": {},
     "output_type": "execute_result"
    }
   ],
   "source": [
    "test_logger.logger.handlers"
   ]
  },
  {
   "cell_type": "code",
   "execution_count": 5,
   "id": "977a3fd0-721e-4825-acb1-1b857b88649e",
   "metadata": {},
   "outputs": [
    {
     "data": {
      "text/plain": [
       "array([2, 3, 1, 0, 4])"
      ]
     },
     "execution_count": 5,
     "metadata": {},
     "output_type": "execute_result"
    }
   ],
   "source": [
    "np.argsort([10,8,2,5,67])"
   ]
  },
  {
   "cell_type": "code",
   "execution_count": 1,
   "id": "2d0f334d-7df5-490b-82b7-9b13260e9977",
   "metadata": {},
   "outputs": [],
   "source": [
    "import numpy  as np"
   ]
  },
  {
   "cell_type": "code",
   "execution_count": null,
   "id": "bf52a6d0-9b45-450f-aae5-d993c0b2f4cc",
   "metadata": {},
   "outputs": [],
   "source": []
  }
 ],
 "metadata": {
  "kernelspec": {
   "display_name": "Python 3 (ipykernel)",
   "language": "python",
   "name": "python3"
  },
  "language_info": {
   "codemirror_mode": {
    "name": "ipython",
    "version": 3
   },
   "file_extension": ".py",
   "mimetype": "text/x-python",
   "name": "python",
   "nbconvert_exporter": "python",
   "pygments_lexer": "ipython3",
   "version": "3.9.7"
  }
 },
 "nbformat": 4,
 "nbformat_minor": 5
}
